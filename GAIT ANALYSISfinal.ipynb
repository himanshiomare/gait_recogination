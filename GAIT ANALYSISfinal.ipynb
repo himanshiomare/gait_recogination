{
 "cells": [
  {
   "cell_type": "markdown",
   "metadata": {},
   "source": [
    "# Gait Analysis\n",
    "### In this project we are preparing a model which takes a sequence of gait walking style and predict as to who is in the picture. We do this using GET(Gait Energy ..) and then we try out some classifier to check the perfomance."
   ]
  },
  {
   "cell_type": "markdown",
   "metadata": {},
   "source": [
    "### Importing Statements\n",
    "Import the important packages\n"
   ]
  },
  {
   "cell_type": "code",
   "execution_count": 24,
   "metadata": {},
   "outputs": [],
   "source": [
    "\n",
    "import numpy as np\n",
    "import pandas as pd\n",
    "import matplotlib.pyplot as plt\n",
    "import os\n",
    "from skimage import io\n",
    "import scipy.misc\n",
    "from PIL import Image\n",
    "from sklearn.decomposition import PCA\n",
    "from sklearn.linear_model import LogisticRegression\n",
    "from sklearn.model_selection import train_test_split\n",
    "from sklearn.metrics import classification_report\n",
    "from sklearn.metrics import f1_score\n",
    "from sklearn.metrics import accuracy_score\n",
    "from sklearn.preprocessing import scale, StandardScaler\n",
    "from sklearn.svm import LinearSVC\n",
    "import time\n",
    "from sklearn.utils import shuffle\n",
    "import sys\n",
    "##scipy.misc.imsave('outfile.jpg', image_array)"
   ]
  },
  {
   "cell_type": "code",
   "execution_count": 2,
   "metadata": {},
   "outputs": [],
   "source": [
    "new_folder =\"F:\\Depth_Cropped\"##Where the sequence of images are present\n",
    "data =\"E:\\Depth_Cropped\"## where the GET is to be stored\n"
   ]
  },
  {
   "cell_type": "code",
   "execution_count": 17,
   "metadata": {},
   "outputs": [],
   "source": [
    "##Creating a mirror image of the image\n",
    "from PIL import Image\n",
    "\n",
    "def flip_image(image_path, saved_location):\n",
    "\n",
    "    \"\"\"\n",
    "\n",
    "    Flip or mirror the image\n",
    "\n",
    "    @param image_path: The path to the image to edit\n",
    "\n",
    "    @param saved_location: Path to save the cropped image\n",
    "\n",
    "    \"\"\"\n",
    "\n",
    "    image_obj = Image.open(image_path)\n",
    "\n",
    "    rotated_image = image_obj.transpose(Image.FLIP_LEFT_RIGHT)\n",
    "\n",
    "    rotated_image.save(saved_location)\n",
    "\n",
    "    "
   ]
  },
  {
   "cell_type": "markdown",
   "metadata": {},
   "source": [
    "### Creating GET out of the Sequences"
   ]
  },
  {
   "cell_type": "code",
   "execution_count": 50,
   "metadata": {},
   "outputs": [],
   "source": [
    "##Making GET \n",
    "def CreateGEt(Making_GET=False):\n",
    "    if (not os.path.isdir(data)):\n",
    "        os.mkdir(data)\n",
    "    if(Making_GET):\n",
    "        for person in os.listdir(new_folder):    \n",
    "            os.mkdir(os.path.join(data,person))\n",
    "            for normalfol in os.listdir(os.path.join(new_folder,person)):\n",
    "                if normalfol[0]=='n':\n",
    "                    count=0\n",
    "                    total=np.zeros((250,200))\n",
    "                    for file in os.listdir(os.path.join(new_folder,person,normalfol)):\n",
    "\n",
    "                        count+=1\n",
    "                        if(file[-3:]==\"png\"):\n",
    "\n",
    "                            filename= os.path.join(new_folder,person,normalfol,file)\n",
    "                            image = np.array(plt.imread(fname=filename))\n",
    "                            image=np.where(image<0.2,0,1)\n",
    "                            total+=image\n",
    "                    total/=count\n",
    "\n",
    "\n",
    "                    os.mkdir(os.path.join(data,person,normalfol))\n",
    "                    plt.imsave(fname=os.path.join(data,person,normalfol,normalfol+\".png\"),arr=total,cmap=\"gray\")\n",
    "                    ##total.save(os.path.join(data,person,normalfol,normalfol+\".jpeg\"))\n",
    "\n",
    "\n",
    "\n",
    "    print (\"The GET is stored in \"+data+\"\\nYou are ready to go\")\n",
    "\n",
    "\n",
    "\n",
    "\n"
   ]
  },
  {
   "cell_type": "code",
   "execution_count": 54,
   "metadata": {},
   "outputs": [],
   "source": [
    "#Some images are flipped in oposite direction so to make them point in one direction this processing is done\n",
    "def FlippingLEftIMtoRigh(want=False):\n",
    "    if(want):\n",
    "        for person in os.listdir(data):    \n",
    "                for normalfol in os.listdir(os.path.join(data,person)):\n",
    "                     if(int(normalfol[1:])%2==0):\n",
    "\n",
    "                        for file in os.listdir(os.path.join(data,person,normalfol)):\n",
    "                            filename= os.path.join(data,person,normalfol,file)\n",
    "                            flip_image(filename,filename)\n",
    "\n",
    "\n",
    "\n"
   ]
  },
  {
   "cell_type": "code",
   "execution_count": 53,
   "metadata": {},
   "outputs": [
    {
     "name": "stdout",
     "output_type": "stream",
     "text": [
      "The GET is stored in E:\\Depth_Cropped\n",
      "You are ready to go\n"
     ]
    }
   ],
   "source": [
    "CreateGEt()\n",
    "FlippingLEftIMtoRigh()"
   ]
  },
  {
   "cell_type": "markdown",
   "metadata": {},
   "source": [
    "### Loading the GET Images and using them for processing"
   ]
  },
  {
   "cell_type": "code",
   "execution_count": 4,
   "metadata": {},
   "outputs": [
    {
     "name": "stdout",
     "output_type": "stream",
     "text": [
      "Loading data took time: 21.311508655548096 sec\n"
     ]
    }
   ],
   "source": [
    "##Loading the GET image into database \n",
    "##Takes around 21 seconds\n",
    "tic =time.time()\n",
    "X_train =[]\n",
    "X_test=[]\n",
    "y_train =[]\n",
    "y_test=[]\n",
    "for person in os.listdir(data):\n",
    "    label = int(person[1:])\n",
    "    i=0\n",
    "    for nfol in os.listdir(os.path.join(data,person)):\n",
    "        count = len([name for name in os.listdir(os.path.join(data,person)) ])\n",
    "        \n",
    "        if count > 10 :\n",
    "            testnumber =4\n",
    "        elif count >7 :\n",
    "            testnumber =3\n",
    "        else :\n",
    "            testnumber =2\n",
    "        filename= os.path.join(data,person,nfol,nfol)+\".jpeg\"\n",
    "        image = np.array(plt.imread(fname=filename))\n",
    "        if(i<testnumber):\n",
    "            X_test.append(image)\n",
    "            y_test.append(label)\n",
    "        else :\n",
    "            X_train.append(image)\n",
    "            y_train.append(label)\n",
    "        i+=1\n",
    "X_test=np.array(X_test)\n",
    "X_train=np.array(X_train)\n",
    "y_train=np.array(y_train)\n",
    "y_test=np.array(y_test)\n",
    "toc =time.time()\n",
    "print(\"Loading data took time: \"+str((toc-tic))+\" sec\")"
   ]
  },
  {
   "cell_type": "code",
   "execution_count": 5,
   "metadata": {},
   "outputs": [
    {
     "name": "stdout",
     "output_type": "stream",
     "text": [
      "X_train.shape: (1348, 250, 200), y_train.shape: (1348,)\n",
      "X_test.shape: (674, 250, 200), y_test.shape: (674,)\n"
     ]
    }
   ],
   "source": [
    "print(\"X_train.shape: {}, y_train.shape: {}\".format(X_train.shape, y_train.shape))\n",
    "print(\"X_test.shape: {}, y_test.shape: {}\".format(X_test.shape, y_test.shape))"
   ]
  },
  {
   "cell_type": "markdown",
   "metadata": {},
   "source": [
    "## Know what  your data looks like\n"
   ]
  },
  {
   "cell_type": "code",
   "execution_count": 6,
   "metadata": {},
   "outputs": [
    {
     "data": {
      "image/png": "[encoded data removed]",
      "text/plain": [
       "<Figure size 432x288 with 1 Axes>"
      ]
     },
     "metadata": {
      "needs_background": "light"
     },
     "output_type": "display_data"
    }
   ],
   "source": [
    "##Example of an GET\n",
    "plt.imshow(X_train[0],cmap=\"gray\")\n",
    "plt.title(\"The image of the person numbered:\"+str(y_train[0]))\n",
    "plt.show()"
   ]
  },
  {
   "cell_type": "code",
   "execution_count": 10,
   "metadata": {},
   "outputs": [],
   "source": [
    "##Flatten the dataset\n",
    "X_train=X_train.reshape((X_train.shape[0],250*200))\n",
    "X_test=X_test.reshape(X_test.shape[0],250*200)"
   ]
  },
  {
   "cell_type": "code",
   "execution_count": 11,
   "metadata": {},
   "outputs": [],
   "source": [
    "##Randomizing the dataset\n",
    "X_train, y_train = shuffle(X_train, y_train)\n",
    "X_test, y_test = shuffle(X_test, y_test)"
   ]
  },
  {
   "cell_type": "code",
   "execution_count": 12,
   "metadata": {},
   "outputs": [
    {
     "data": {
      "text/plain": [
       "array([206,  20,  12, 112, 276, 134, 304, 290,  75,  84])"
      ]
     },
     "execution_count": 12,
     "metadata": {},
     "output_type": "execute_result"
    }
   ],
   "source": [
    "y_train[0:10]"
   ]
  },
  {
   "cell_type": "code",
   "execution_count": 13,
   "metadata": {},
   "outputs": [
    {
     "name": "stdout",
     "output_type": "stream",
     "text": [
      "Dimensionality reduced to: 432\n",
      "Time taken to reduce the size of the data : 24.231295585632324 sec\n"
     ]
    }
   ],
   "source": [
    "##Dimension Reduction\n",
    "##Here it takes around 30 sec\n",
    "tic=time.time()\n",
    "pca=PCA(n_components=0.99)\n",
    "\n",
    "X_train_pca = pca.fit_transform(X_train)\n",
    "X_test_pca = pca.transform(X_test)\n",
    "toc=time.time()\n",
    "print(\"Dimensionality reduced to:\", pca.n_components_)\n",
    "print(\"Time taken to reduce the size of the data : \"+str((toc-tic))+\" sec\")"
   ]
  },
  {
   "cell_type": "code",
   "execution_count": null,
   "metadata": {},
   "outputs": [],
   "source": [
    "##using the classifier\n",
    "##1.) Decision Tree Classifier\n",
    "check=[2,5,10,50,100,150,500]\n",
    "for i in check:\n",
    "    from sklearn.tree import DecisionTreeClassifier\n",
    "    clf1 = DecisionTreeClassifier(random_state=0,min_samples_split=i)\n",
    "    %time clf1.fit(X_train_pca,y_train)\n",
    "    print(\"Training accuracy : {:.4f}, \\nTest Accuracy: {:.4f}\".format(clf1.score(X_train_pca,y_train),clf1.score(X_test_pca,y_test)))\n",
    "    print(\"min samples split is \"+ str(i))\n",
    "    print(\"------------------------------------------------------------\")"
   ]
  },
  {
   "cell_type": "markdown",
   "metadata": {},
   "source": [
    "We cant choose the decision Tree Classifier for this job since its been giving a bad accuracy.\n",
    "We must try someother classifier for this. Lets try logistic Regression"
   ]
  },
  {
   "cell_type": "code",
   "execution_count": null,
   "metadata": {},
   "outputs": [],
   "source": [
    "##time to check other classifier out\n",
    "clf2 = LogisticRegression(C=.00001,solver='liblinear',multi_class='auto')\n",
    "%time clf2 = clf2.fit(X_train_pca, y_train)\n",
    "\n",
    "print(\"Training accuracy : {:.4f}, \\nTest Accuracy: {:.4f}\".format(clf2.score(X_train_pca,y_train),clf2.score(X_test_pca,y_test)))\n",
    "print(\"min samples split is \"+ str(i))\n",
    "print(\"------------------------------------------------------------\")"
   ]
  },
  {
   "cell_type": "code",
   "execution_count": null,
   "metadata": {},
   "outputs": [],
   "source": [
    "for i in [1,0.8,0.3,0.1,0.03,0.001,0.0001]:\n",
    "    svm = LinearSVC(C=i)\n",
    "    %time svm = svm.fit(X_train_pca, y_train)\n",
    "    print(\"Training accuracy : {:.4f}, \\nTest Accuracy: {:.4f}\".format(clf2.score(X_train_pca,y_train),clf2.score(X_test_pca,y_test)))\n",
    "    print (\"C chosen is \"+str(i))\n",
    "    print (\"-----------------------------------------------------------------------\")\n"
   ]
  },
  {
   "cell_type": "code",
   "execution_count": 55,
   "metadata": {},
   "outputs": [
    {
     "name": "stdout",
     "output_type": "stream",
     "text": [
      "Wall time: 8.65 s\n",
      "Training accuracy: 1.0000, Test Accuracy: 0.9525\n"
     ]
    }
   ],
   "source": [
    "clf = LogisticRegression(C=.01,solver ='lbfgs',multi_class='auto',max_iter=250)\n",
    "%time clf = clf.fit(X_train_pca, y_train)\n",
    "y_train_pred=clf.predict(X_train_pca)\n",
    "y_test_pred=clf.predict(X_test_pca)\n",
    "print(\"Training accuracy: {:.4f}, Test Accuracy: {:.4f}\".format(accuracy_score(y_train_pred, y_train), accuracy_score(y_test_pred, y_test)))"
   ]
  },
  {
   "cell_type": "markdown",
   "metadata": {},
   "source": [
    "## We check out the predictions against the real values of the test set "
   ]
  },
  {
   "cell_type": "code",
   "execution_count": 15,
   "metadata": {},
   "outputs": [],
   "source": [
    "def plot_gallery(images, titles, rows=3, cols=4):\n",
    "    plt.figure()\n",
    "    for i in range(rows * cols):\n",
    "        fig = plt.subplot(rows, cols, i + 1)\n",
    "        plt.imshow(images[i], cmap=plt.cm.gray)\n",
    "        plt.title(titles[i])\n",
    "        plt.xticks(())\n",
    "        plt.yticks(())\n",
    "    plt.tight_layout()\n",
    "    plt.show()\n",
    "        \n",
    "def titles(y_pred, y_test):\n",
    "    for i in range(y_pred.shape[0]):\n",
    "        yield 'predicted: {0}\\ntrue: {1}'.format(y_pred[i], y_test[i])"
   ]
  },
  {
   "cell_type": "code",
   "execution_count": 16,
   "metadata": {},
   "outputs": [
    {
     "data": {
      "image/png": "[encoded data removed]",
      "text/plain": [
       "<Figure size 432x288 with 12 Axes>"
      ]
     },
     "metadata": {},
     "output_type": "display_data"
    }
   ],
   "source": [
    "prediction_titles = list(titles(clf.predict(X_test_pca), y_test))\n",
    "plot_gallery(X_test.reshape(-1, 250, 200), prediction_titles)"
   ]
  },
  {
   "cell_type": "markdown",
   "metadata": {},
   "source": [
    "## Hence we choose logistic regression as our classifier giving us the accuracy of 95%"
   ]
  },
  {
   "cell_type": "code",
   "execution_count": null,
   "metadata": {},
   "outputs": [],
   "source": []
  }
 ],
 "metadata": {
  "kernelspec": {
   "display_name": "Python 3",
   "language": "python",
   "name": "python3"
  },
  "language_info": {
   "codemirror_mode": {
    "name": "ipython",
    "version": 3
   },
   "file_extension": ".py",
   "mimetype": "text/x-python",
   "name": "python",
   "nbconvert_exporter": "python",
   "pygments_lexer": "ipython3",
   "version": "3.6.7"
  }
 },
 "nbformat": 4,
 "nbformat_minor": 2
}
